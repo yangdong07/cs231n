{
 "cells": [
  {
   "cell_type": "markdown",
   "metadata": {},
   "source": [
    "\n",
    "自己写一个 mnist 手写数字判断的网络。 用 pytorch 实现\n",
    "\n",
    "\n",
    "数据集地址： https://github.com/myleott/mnist_png/blob/master/mnist_png.tar.gz?raw=true\n",
    "\n",
    "解压后： \n",
    "\n",
    "```\n",
    "mnist_png\n",
    "├── testing\n",
    "│   ├── 0\n",
    "│   ├── 1\n",
    "│   ├── 2\n",
    "│   ├── 3\n",
    "│   ├── 4\n",
    "│   ├── 5\n",
    "│   ├── 6\n",
    "│   ├── 7\n",
    "│   ├── 8\n",
    "│   └── 9\n",
    "└── training\n",
    "    ├── 0\n",
    "    ├── 1\n",
    "    ├── 2\n",
    "    ├── 3\n",
    "    ├── 4\n",
    "    ├── 5\n",
    "    ├── 6\n",
    "    ├── 7\n",
    "    ├── 8\n",
    "    └── 9\n",
    "```\n",
    "\n",
    "分为 training 和 testing， 各10个目录，分别表示数字 0 ~ 9"
   ]
  },
  {
   "cell_type": "code",
   "execution_count": 1,
   "metadata": {
    "scrolled": false
   },
   "outputs": [
    {
     "name": "stdout",
     "output_type": "stream",
     "text": [
      "mnist_png/training/0 5923\n",
      "mnist_png/training/1 6742\n",
      "mnist_png/training/2 5958\n",
      "mnist_png/training/3 6131\n",
      "mnist_png/training/4 5842\n",
      "mnist_png/training/5 5421\n",
      "mnist_png/training/6 5918\n",
      "mnist_png/training/7 6265\n",
      "mnist_png/training/8 5851\n",
      "mnist_png/training/9 5949\n",
      "60000\n",
      "mnist_png/testing/0 980\n",
      "mnist_png/testing/1 1135\n",
      "mnist_png/testing/2 1032\n",
      "mnist_png/testing/3 1010\n",
      "mnist_png/testing/4 982\n",
      "mnist_png/testing/5 892\n",
      "mnist_png/testing/6 958\n",
      "mnist_png/testing/7 1028\n",
      "mnist_png/testing/8 974\n",
      "mnist_png/testing/9 1009\n",
      "10000\n"
     ]
    }
   ],
   "source": [
    "# 了解数据集\n",
    "\n",
    "from pathlib import Path\n",
    "\n",
    "mnist_path = Path('mnist_png/')\n",
    "\n",
    "_dataset = ['training', 'testing']\n",
    "_labels = list(range(0, 10))\n",
    "\n",
    "for x in _dataset:\n",
    "    acc = 0\n",
    "    for l in _labels:\n",
    "        p = mnist_path / x / str(l)\n",
    "        images = list(p.glob('*.png'))\n",
    "        print(p, len(images))\n",
    "        acc += len(images)\n",
    "    print(acc)\n",
    "\n",
    "# 训练集 60000，平均每个数字 5000+ \n",
    "# 测试集 10000，平均每个数字 1000张 \n",
    "# for _p1 in mnist_path.iterdir():\n",
    "#     for _p2 in _p1.iterdir():\n",
    "#         print(_p2, len(list(_p2.glob('*.png'))))\n",
    "#print(len(list(data_path.rglob('*.png'))))"
   ]
  },
  {
   "cell_type": "code",
   "execution_count": 18,
   "metadata": {},
   "outputs": [],
   "source": [
    "# 用 pytorch 加载数据集\n",
    "\n",
    "from pathlib import Path\n",
    "\n",
    "from PIL import Image\n",
    "from torch.utils.data import Dataset, DataLoader\n",
    "from torchvision import transforms, datasets\n",
    "\n",
    "class MNIST(Dataset):\n",
    "    \"\"\"\n",
    "    类似 torchvision.datasets.ImageFolder 的Dataset\n",
    "    \"\"\"\n",
    "    def __init__(self, root, transform=None, preload=False):\n",
    "        self.images = None\n",
    "        self.labels = None\n",
    "        self.filenames = []\n",
    "        self.root = root\n",
    "        self.transform = transform\n",
    "        \n",
    "        root_path = Path(root)\n",
    "        for fn in root_path.rglob('*.png'):\n",
    "            label = fn.parts[-2]\n",
    "            self.filenames.append((fn, int(label)))\n",
    "            \n",
    "        # if preload dataset into memory\n",
    "        if preload:\n",
    "            self._preload()\n",
    "            \n",
    "        self.len = len(self.filenames)\n",
    "                              \n",
    "    def _preload(self):\n",
    "        \"\"\"\n",
    "        Preload dataset to memory\n",
    "        \"\"\"\n",
    "        self.labels = []\n",
    "        self.images = []\n",
    "        for image_fn, label in self.filenames:            \n",
    "            # load images\n",
    "            image = Image.open(image_fn)\n",
    "            self.images.append(image.copy())\n",
    "            # avoid too many opened files bug\n",
    "            image.close()\n",
    "            self.labels.append(label)\n",
    "\n",
    "    # probably the most important to customize.\n",
    "    def __getitem__(self, index):\n",
    "        \"\"\" Get a sample from the dataset\n",
    "        \"\"\"\n",
    "        if self.images is not None:\n",
    "            # If dataset is preloaded\n",
    "            image = self.images[index]\n",
    "            label = self.labels[index]\n",
    "        else:\n",
    "            # If on-demand data loading\n",
    "            image_fn, label = self.filenames[index]\n",
    "            image = Image.open(image_fn)\n",
    "            \n",
    "        # May use transform function to transform samples\n",
    "        # e.g., random crop, whitening\n",
    "        if self.transform is not None:\n",
    "            image = self.transform(image)\n",
    "        # return image and label\n",
    "        return image, label\n",
    "\n",
    "    def __len__(self):\n",
    "        \"\"\"\n",
    "        Total number of samples in the dataset\n",
    "        \"\"\"\n",
    "        return self.len\n",
    "\n",
    "\n",
    "trainset = MNIST(root='mnist_png/training', \n",
    "                 preload=True, transform=transforms.ToTensor(),)\n",
    "testset = MNIST(root='mnist_png/testing',\n",
    "                preload=True, transform=transforms.ToTensor(),)"
   ]
  },
  {
   "cell_type": "code",
   "execution_count": 19,
   "metadata": {},
   "outputs": [
    {
     "name": "stdout",
     "output_type": "stream",
     "text": [
      "60000\n",
      "10000\n"
     ]
    }
   ],
   "source": [
    "print(len(trainset))\n",
    "print(len(testset))"
   ]
  },
  {
   "cell_type": "code",
   "execution_count": 20,
   "metadata": {},
   "outputs": [],
   "source": [
    "trainset_loader = DataLoader(trainset, batch_size=64, shuffle=True, num_workers=1)\n",
    "testset_loader = DataLoader(testset, batch_size=1000, shuffle=False, num_workers=1)"
   ]
  },
  {
   "cell_type": "code",
   "execution_count": 21,
   "metadata": {},
   "outputs": [
    {
     "name": "stdout",
     "output_type": "stream",
     "text": [
      "tensor(7) tensor(1) tensor(1) tensor(3) tensor(1) tensor(9) tensor(6) tensor(7) tensor(9) tensor(8) tensor(3) tensor(9) tensor(8) tensor(2) tensor(1) tensor(5)\n"
     ]
    },
    {
     "data": {
      "image/png": "[encoded data removed]",
      "text/plain": [
       "<Figure size 432x288 with 1 Axes>"
      ]
     },
     "metadata": {
      "needs_background": "light"
     },
     "output_type": "display_data"
    }
   ],
   "source": [
    "%matplotlib inline\n",
    "import numpy as np\n",
    "import matplotlib.pyplot as plt\n",
    "\n",
    "from torchvision.utils import make_grid\n",
    "\n",
    "# functions to show an image\n",
    "def imshow(img):\n",
    "    npimg = img.numpy()\n",
    "    plt.imshow(np.transpose(npimg, (1, 2, 0)))\n",
    "\n",
    "# get some random training images\n",
    "dataiter = iter(trainset_loader)\n",
    "images, labels = dataiter.next()\n",
    "\n",
    "# show images\n",
    "imshow(make_grid(images))\n",
    "# print labels\n",
    "print(' '.join('%5s' % labels[j] for j in range(16)))"
   ]
  },
  {
   "cell_type": "code",
   "execution_count": 17,
   "metadata": {},
   "outputs": [
    {
     "name": "stdout",
     "output_type": "stream",
     "text": [
      "torch.Size([1, 28, 28])\n",
      "torch.Size([3, 28, 28])\n",
      "torch.Size([1, 3, 28, 28])\n",
      "torch.Size([3, 28, 28])\n"
     ]
    },
    {
     "data": {
      "text/plain": [
       "<matplotlib.image.AxesImage at 0x7f01ed3fe6a0>"
      ]
     },
     "execution_count": 17,
     "metadata": {},
     "output_type": "execute_result"
    },
    {
     "data": {
      "image/png": "[encoded data removed]",
      "text/plain": [
       "<Figure size 432x288 with 1 Axes>"
      ]
     },
     "metadata": {
      "needs_background": "light"
     },
     "output_type": "display_data"
    }
   ],
   "source": [
    "import torch\n",
    "_tensor = trainset[0][0]\n",
    "print(_tensor.size())\n",
    "_tensor = torch.cat((_tensor, _tensor, _tensor), 0)\n",
    "print(_tensor.size())\n",
    "_tensor = _tensor.view(1, _tensor.size(0), _tensor.size(1), _tensor.size(2))\n",
    "print(_tensor.size())\n",
    "_tensor = _tensor.squeeze()\n",
    "print(_tensor.size())\n",
    "\n",
    "plt.imshow(_tensor.numpy().transpose((1, 2, 0)))"
   ]
  },
  {
   "cell_type": "code",
   "execution_count": 25,
   "metadata": {},
   "outputs": [],
   "source": [
    "import torch.optim as optim\n",
    "import torch.nn as nn\n",
    "import torch.nn.functional as F\n",
    "\n",
    "class Net(nn.Module):\n",
    "    def __init__(self):\n",
    "        super(Net, self).__init__()\n",
    "\n",
    "        # conv layers: feature extractor\n",
    "        self.conv_layers = nn.Sequential(\n",
    "            nn.Conv2d(1, 10, kernel_size=5),\n",
    "            nn.MaxPool2d(2),\n",
    "            nn.ReLU(),\n",
    "            nn.Conv2d(10, 20, kernel_size=5),\n",
    "            nn.Dropout2d(),\n",
    "            nn.MaxPool2d(2),\n",
    "            nn.ReLU()\n",
    "        )\n",
    "        \n",
    "        # fc layers: classifier\n",
    "        self.fc_layers = nn.Sequential(\n",
    "            nn.Linear(320, 50),\n",
    "            nn.ReLU(),\n",
    "            nn.Dropout(),\n",
    "            nn.Linear(50, 10),\n",
    "        )\n",
    "    \n",
    "    def forward(self, x):\n",
    "        x = self.conv_layers(x)\n",
    "        x = x.view(-1, 320)\n",
    "        x = self.fc_layers(x)\n",
    "        return F.log_softmax(x, dim=1)\n",
    "    \n",
    "device = torch.device('cuda:3')\n",
    "model = Net().to(device)\n",
    "optimizer = optim.SGD(model.parameters(), lr=0.001, momentum=0.9)"
   ]
  },
  {
   "cell_type": "code",
   "execution_count": 26,
   "metadata": {},
   "outputs": [],
   "source": [
    "\n",
    "from time import time\n",
    "\n",
    "\n",
    "def test():\n",
    "    model.eval()  # set evaluation mode\n",
    "    test_loss = 0\n",
    "    correct = 0\n",
    "    with torch.no_grad():\n",
    "        for data, target in testset_loader:\n",
    "            data, target = data.to(device), target.to(device)\n",
    "            output = model(data)\n",
    "            test_loss += F.nll_loss(output, target, size_average=False).item() # sum up batch loss\n",
    "            pred = output.max(1, keepdim=True)[1] # get the index of the max log-probability\n",
    "            correct += pred.eq(target.view_as(pred)).sum().item()\n",
    "\n",
    "    test_loss /= len(testset_loader.dataset)\n",
    "    print('\\nTest set: Average loss: {:.4f}, Accuracy: {}/{} ({:.0f}%)\\n'.format(\n",
    "        test_loss, correct, len(testset_loader.dataset),\n",
    "        100. * correct / len(testset_loader.dataset)))\n",
    "\n",
    "def train(epoch, log_interval=100):\n",
    "#     model.train()  # set training mode\n",
    "    iteration = 0\n",
    "    for ep in range(epoch):\n",
    "        model.train()  # set training mode\n",
    "        start = time()\n",
    "        for batch_idx, (data, target) in enumerate(trainset_loader):\n",
    "            # bring data to the computing device, e.g. GPU\n",
    "            data, target = data.to(device), target.to(device)\n",
    "\n",
    "            # forward pass\n",
    "            output = model(data)\n",
    "            # compute loss: negative log-likelihood\n",
    "            loss = F.nll_loss(output, target)\n",
    "            \n",
    "            # backward pass\n",
    "            # clear the gradients of all tensors being optimized.\n",
    "            optimizer.zero_grad()\n",
    "            # accumulate (i.e. add) the gradients from this forward pass\n",
    "            loss.backward()\n",
    "            # performs a single optimization step (parameter update)\n",
    "            optimizer.step()\n",
    "            \n",
    "            if iteration % log_interval == 0:\n",
    "                print('Train Epoch: {} [{}/{} ({:.0f}%)]\\tLoss: {:.6f}'.format(\n",
    "                    ep, batch_idx * len(data), len(trainset_loader.dataset),\n",
    "                    100. * batch_idx / len(trainset_loader), loss.item()))\n",
    "            iteration += 1\n",
    "            \n",
    "        end = time()\n",
    "        print('{:.2f}s'.format(end-start))\n",
    "        test() # evaluate at the end of epoch\n"
   ]
  },
  {
   "cell_type": "code",
   "execution_count": 27,
   "metadata": {},
   "outputs": [
    {
     "name": "stdout",
     "output_type": "stream",
     "text": [
      "Train Epoch: 0 [0/60000 (0%)]\tLoss: 2.299714\n",
      "Train Epoch: 0 [6400/60000 (11%)]\tLoss: 2.318877\n",
      "Train Epoch: 0 [12800/60000 (21%)]\tLoss: 2.243235\n",
      "Train Epoch: 0 [19200/60000 (32%)]\tLoss: 2.181257\n",
      "Train Epoch: 0 [25600/60000 (43%)]\tLoss: 2.057456\n",
      "Train Epoch: 0 [32000/60000 (53%)]\tLoss: 1.711458\n",
      "Train Epoch: 0 [38400/60000 (64%)]\tLoss: 1.475947\n",
      "Train Epoch: 0 [44800/60000 (75%)]\tLoss: 1.276271\n",
      "Train Epoch: 0 [51200/60000 (85%)]\tLoss: 0.904073\n",
      "Train Epoch: 0 [57600/60000 (96%)]\tLoss: 1.056284\n",
      "4.41s\n",
      "\n",
      "Test set: Average loss: 0.5422, Accuracy: 8647/10000 (86%)\n",
      "\n",
      "Train Epoch: 1 [3968/60000 (7%)]\tLoss: 0.746869\n",
      "Train Epoch: 1 [10368/60000 (17%)]\tLoss: 0.789950\n",
      "Train Epoch: 1 [16768/60000 (28%)]\tLoss: 0.776248\n",
      "Train Epoch: 1 [23168/60000 (39%)]\tLoss: 0.625902\n",
      "Train Epoch: 1 [29568/60000 (49%)]\tLoss: 0.696920\n",
      "Train Epoch: 1 [35968/60000 (60%)]\tLoss: 0.696689\n",
      "Train Epoch: 1 [42368/60000 (71%)]\tLoss: 0.631997\n",
      "Train Epoch: 1 [48768/60000 (81%)]\tLoss: 0.612421\n",
      "Train Epoch: 1 [55168/60000 (92%)]\tLoss: 0.573253\n",
      "4.58s\n",
      "\n",
      "Test set: Average loss: 0.2840, Accuracy: 9222/10000 (92%)\n",
      "\n",
      "Train Epoch: 2 [1536/60000 (3%)]\tLoss: 0.488595\n",
      "Train Epoch: 2 [7936/60000 (13%)]\tLoss: 0.418316\n",
      "Train Epoch: 2 [14336/60000 (24%)]\tLoss: 0.467771\n",
      "Train Epoch: 2 [20736/60000 (35%)]\tLoss: 0.654688\n",
      "Train Epoch: 2 [27136/60000 (45%)]\tLoss: 0.555629\n",
      "Train Epoch: 2 [33536/60000 (56%)]\tLoss: 0.471716\n",
      "Train Epoch: 2 [39936/60000 (67%)]\tLoss: 0.561604\n",
      "Train Epoch: 2 [46336/60000 (77%)]\tLoss: 0.458982\n",
      "Train Epoch: 2 [52736/60000 (88%)]\tLoss: 0.477007\n",
      "Train Epoch: 2 [59136/60000 (99%)]\tLoss: 0.514925\n",
      "4.53s\n",
      "\n",
      "Test set: Average loss: 0.2155, Accuracy: 9350/10000 (94%)\n",
      "\n",
      "Train Epoch: 3 [5504/60000 (9%)]\tLoss: 0.649192\n",
      "Train Epoch: 3 [11904/60000 (20%)]\tLoss: 0.335196\n",
      "Train Epoch: 3 [18304/60000 (30%)]\tLoss: 0.316526\n",
      "Train Epoch: 3 [24704/60000 (41%)]\tLoss: 0.409960\n",
      "Train Epoch: 3 [31104/60000 (52%)]\tLoss: 0.425379\n",
      "Train Epoch: 3 [37504/60000 (62%)]\tLoss: 0.360696\n",
      "Train Epoch: 3 [43904/60000 (73%)]\tLoss: 0.743754\n",
      "Train Epoch: 3 [50304/60000 (84%)]\tLoss: 0.558800\n",
      "Train Epoch: 3 [56704/60000 (94%)]\tLoss: 0.564488\n",
      "4.55s\n",
      "\n",
      "Test set: Average loss: 0.1789, Accuracy: 9458/10000 (95%)\n",
      "\n",
      "Train Epoch: 4 [3072/60000 (5%)]\tLoss: 0.577302\n",
      "Train Epoch: 4 [9472/60000 (16%)]\tLoss: 0.444419\n",
      "Train Epoch: 4 [15872/60000 (26%)]\tLoss: 0.446933\n",
      "Train Epoch: 4 [22272/60000 (37%)]\tLoss: 0.574142\n",
      "Train Epoch: 4 [28672/60000 (48%)]\tLoss: 0.306388\n",
      "Train Epoch: 4 [35072/60000 (58%)]\tLoss: 0.386033\n",
      "Train Epoch: 4 [41472/60000 (69%)]\tLoss: 0.382608\n",
      "Train Epoch: 4 [47872/60000 (80%)]\tLoss: 0.454728\n",
      "Train Epoch: 4 [54272/60000 (90%)]\tLoss: 0.365476\n",
      "4.67s\n",
      "\n",
      "Test set: Average loss: 0.1532, Accuracy: 9537/10000 (95%)\n",
      "\n"
     ]
    }
   ],
   "source": [
    "train(5)"
   ]
  },
  {
   "cell_type": "code",
   "execution_count": null,
   "metadata": {},
   "outputs": [],
   "source": []
  }
 ],
 "metadata": {
  "kernelspec": {
   "display_name": "Python 3",
   "language": "python",
   "name": "python3"
  },
  "language_info": {
   "codemirror_mode": {
    "name": "ipython",
    "version": 3
   },
   "file_extension": ".py",
   "mimetype": "text/x-python",
   "name": "python",
   "nbconvert_exporter": "python",
   "pygments_lexer": "ipython3",
   "version": "3.7.3"
  }
 },
 "nbformat": 4,
 "nbformat_minor": 2
}
